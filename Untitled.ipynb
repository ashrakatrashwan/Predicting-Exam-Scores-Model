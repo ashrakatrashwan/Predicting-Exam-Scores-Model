{
 "cells": [
  {
   "cell_type": "code",
   "execution_count": 1,
   "id": "dda84774",
   "metadata": {},
   "outputs": [
    {
     "name": "stdout",
     "output_type": "stream",
     "text": [
      "Hi, I am Ash\n"
     ]
    }
   ],
   "source": [
    "print(\"Hi, I am Ash\")"
   ]
  },
  {
   "cell_type": "code",
   "execution_count": 2,
   "id": "1c96f2ce",
   "metadata": {},
   "outputs": [
    {
     "name": "stdout",
     "output_type": "stream",
     "text": [
      "7\n"
     ]
    }
   ],
   "source": [
    "print(5+2)"
   ]
  },
  {
   "cell_type": "code",
   "execution_count": 5,
   "id": "7afc2ddb",
   "metadata": {},
   "outputs": [
    {
     "name": "stdout",
     "output_type": "stream",
     "text": [
      "5 + 2 = 7\n"
     ]
    }
   ],
   "source": [
    "print(\"5 + 2 =\",5+2)"
   ]
  },
  {
   "cell_type": "code",
   "execution_count": null,
   "id": "fc8bf1c5",
   "metadata": {},
   "outputs": [],
   "source": []
  }
 ],
 "metadata": {
  "kernelspec": {
   "display_name": "Python 3 (ipykernel)",
   "language": "python",
   "name": "python3"
  },
  "language_info": {
   "codemirror_mode": {
    "name": "ipython",
    "version": 3
   },
   "file_extension": ".py",
   "mimetype": "text/x-python",
   "name": "python",
   "nbconvert_exporter": "python",
   "pygments_lexer": "ipython3",
   "version": "3.9.12"
  }
 },
 "nbformat": 4,
 "nbformat_minor": 5
}
